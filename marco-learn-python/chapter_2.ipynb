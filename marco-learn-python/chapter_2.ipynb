{
 "cells": [
  {
   "cell_type": "code",
   "execution_count": 1,
   "metadata": {},
   "outputs": [
    {
     "name": "stdout",
     "output_type": "stream",
     "text": [
      "Hello\n",
      "Hello\n",
      "Hello\n",
      "Hello\n",
      "Hello\n",
      "Hello\n",
      "Hello\n",
      "Hello\n",
      "Hello\n",
      "Hello\n"
     ]
    }
   ],
   "source": [
    "for i in range(10):\n",
    "    print('Hello')"
   ]
  },
  {
   "cell_type": "code",
   "execution_count": 2,
   "metadata": {},
   "outputs": [
    {
     "name": "stdin",
     "output_type": "stream",
     "text": [
      "enter a number 3\n"
     ]
    },
    {
     "name": "stdout",
     "output_type": "stream",
     "text": [
      "The square of your number is 9\n"
     ]
    },
    {
     "name": "stdin",
     "output_type": "stream",
     "text": [
      "enter a number 4\n"
     ]
    },
    {
     "name": "stdout",
     "output_type": "stream",
     "text": [
      "The square of your number is 16\n"
     ]
    },
    {
     "name": "stdin",
     "output_type": "stream",
     "text": [
      "enter a number 22\n"
     ]
    },
    {
     "name": "stdout",
     "output_type": "stream",
     "text": [
      "The square of your number is 484\n",
      "This for loop is now done!\n"
     ]
    }
   ],
   "source": [
    "for i in range(3):\n",
    "    num = eval(input('enter a number'))\n",
    "    print('The square of your number is', num*num)\n",
    "print('This for loop is now done!')"
   ]
  },
  {
   "cell_type": "code",
   "execution_count": 3,
   "metadata": {},
   "outputs": [
    {
     "name": "stdout",
     "output_type": "stream",
     "text": [
      "C\n",
      "O\n",
      "R\n",
      "O\n",
      "R\n",
      "O\n",
      "R\n",
      "O\n",
      "R\n",
      "O\n",
      "R\n",
      "O\n",
      "N\n",
      "A\n"
     ]
    }
   ],
   "source": [
    "print('C')\n",
    "print('O')\n",
    "for i in range(5):\n",
    "    print('R')\n",
    "    print('O')\n",
    "print('N')\n",
    "print('A')\n"
   ]
  },
  {
   "cell_type": "code",
   "execution_count": 4,
   "metadata": {},
   "outputs": [
    {
     "name": "stdout",
     "output_type": "stream",
     "text": [
      "C\n",
      "O\n",
      "O\n",
      "O\n",
      "R\n",
      "R\n",
      "R\n",
      "R\n",
      "R\n",
      "O\n",
      "N\n",
      "N\n",
      "N\n",
      "N\n",
      "A\n"
     ]
    }
   ],
   "source": [
    "print('C')\n",
    "for i in range(3):\n",
    "    print('O')\n",
    "for i in range(5):\n",
    "    print('R')\n",
    "print('O')\n",
    "for i in range(4):\n",
    "    print('N')\n",
    "print('A')"
   ]
  },
  {
   "cell_type": "code",
   "execution_count": 5,
   "metadata": {},
   "outputs": [
    {
     "name": "stdout",
     "output_type": "stream",
     "text": [
      "*\n",
      "*\n",
      "*\n",
      "*\n",
      "*\n",
      "*\n",
      "*\n",
      "*\n",
      "*\n",
      "*\n",
      "*\n",
      "*\n",
      "*\n",
      "*\n",
      "*\n",
      "*\n",
      "*\n",
      "*\n",
      "*\n",
      "*\n"
     ]
    }
   ],
   "source": [
    "for i in range(20):\n",
    "    print('*')"
   ]
  },
  {
   "cell_type": "code",
   "execution_count": 6,
   "metadata": {},
   "outputs": [
    {
     "name": "stdout",
     "output_type": "stream",
     "text": [
      "0\n",
      "2\n",
      "4\n",
      "6\n",
      "8\n",
      "10\n",
      "12\n",
      "14\n",
      "16\n",
      "18\n",
      "20\n",
      "22\n",
      "24\n",
      "26\n",
      "28\n",
      "30\n",
      "32\n",
      "34\n",
      "36\n",
      "38\n"
     ]
    }
   ],
   "source": [
    "for i in range(20):\n",
    "    print(i*2)"
   ]
  },
  {
   "cell_type": "code",
   "execution_count": 7,
   "metadata": {},
   "outputs": [
    {
     "name": "stdout",
     "output_type": "stream",
     "text": [
      "1 -- Hello\n",
      "2 -- Hello\n",
      "3 -- Hello\n",
      "4 -- Hello\n",
      "5 -- Hello\n",
      "6 -- Hello\n",
      "7 -- Hello\n",
      "8 -- Hello\n",
      "9 -- Hello\n",
      "10 -- Hello\n"
     ]
    }
   ],
   "source": [
    "for i in range(10):\n",
    "    print(i+1, '-- Hello')"
   ]
  },
  {
   "cell_type": "code",
   "execution_count": 8,
   "metadata": {},
   "outputs": [
    {
     "name": "stdout",
     "output_type": "stream",
     "text": [
      "0\n",
      "1\n",
      "2\n",
      "3\n",
      "4\n",
      "5\n",
      "6\n",
      "7\n",
      "8\n",
      "9\n"
     ]
    }
   ],
   "source": [
    "for i in range(10):\n",
    "    print(i)"
   ]
  },
  {
   "cell_type": "code",
   "execution_count": 9,
   "metadata": {},
   "outputs": [
    {
     "name": "stdout",
     "output_type": "stream",
     "text": [
      "1\n",
      "2\n",
      "3\n",
      "4\n",
      "5\n",
      "6\n",
      "7\n",
      "8\n",
      "9\n"
     ]
    }
   ],
   "source": [
    "for i in range(1, 10):\n",
    "    print(i)"
   ]
  },
  {
   "cell_type": "code",
   "execution_count": 16,
   "metadata": {},
   "outputs": [
    {
     "name": "stdout",
     "output_type": "stream",
     "text": [
      "2\n",
      "5\n",
      "8\n",
      "11\n",
      "14\n"
     ]
    }
   ],
   "source": [
    "for i in range(2, 15, 3):\n",
    "    print(i)"
   ]
  },
  {
   "cell_type": "code",
   "execution_count": 18,
   "metadata": {},
   "outputs": [
    {
     "name": "stdout",
     "output_type": "stream",
     "text": [
      "100\n",
      "96\n",
      "92\n",
      "88\n",
      "84\n",
      "80\n",
      "76\n",
      "72\n",
      "68\n",
      "64\n",
      "60\n",
      "56\n",
      "52\n",
      "48\n",
      "44\n",
      "40\n",
      "36\n",
      "32\n",
      "28\n",
      "24\n",
      "20\n",
      "16\n",
      "12\n",
      "8\n",
      "4\n"
     ]
    }
   ],
   "source": [
    "for i in range(100,1,-4):\n",
    "    print(i)"
   ]
  },
  {
   "cell_type": "code",
   "execution_count": 21,
   "metadata": {},
   "outputs": [
    {
     "name": "stdout",
     "output_type": "stream",
     "text": [
      "10 9 8 7 6 5 4 3 2 1 Blast Off!!\n"
     ]
    }
   ],
   "source": [
    "for i in range(10, 0, -1):\n",
    "    print(i, end=' ')\n",
    "print('Blast Off!!')"
   ]
  },
  {
   "cell_type": "code",
   "execution_count": 22,
   "metadata": {},
   "outputs": [
    {
     "name": "stdout",
     "output_type": "stream",
     "text": [
      "******\n",
      "******\n",
      "******\n",
      "******\n"
     ]
    }
   ],
   "source": [
    "for i in range(4):\n",
    "    print('*'*6)"
   ]
  },
  {
   "cell_type": "code",
   "execution_count": 28,
   "metadata": {},
   "outputs": [
    {
     "name": "stdout",
     "output_type": "stream",
     "text": [
      "*\n",
      "**\n",
      "***\n",
      "****\n",
      "*****\n",
      "******\n",
      "*******\n",
      "********\n",
      "*********\n",
      "**********\n",
      "***********\n",
      "************\n",
      "*************\n",
      "**************\n",
      "***************\n",
      "****************\n",
      "*****************\n",
      "******************\n",
      "*******************\n",
      "********************\n",
      "*********************\n",
      "**********************\n",
      "***********************\n",
      "************************\n",
      "*************************\n",
      "**************************\n",
      "***************************\n",
      "****************************\n",
      "*****************************\n",
      "******************************\n",
      "*******************************\n",
      "********************************\n",
      "*********************************\n",
      "**********************************\n",
      "***********************************\n",
      "************************************\n",
      "****\n",
      "*****\n",
      "******\n",
      "*******\n",
      "********\n",
      "*********\n",
      "**********\n",
      "***********\n",
      "************\n",
      "*************\n",
      "**************\n",
      "***************\n",
      "****************\n",
      "*****************\n",
      "******************\n",
      "*******************\n",
      "********************\n",
      "*********************\n",
      "**********************\n",
      "***********************\n",
      "************************\n",
      "*************************\n",
      "**************************\n",
      "***************************\n",
      "****************************\n",
      "*****************************\n",
      "******************************\n",
      "*******************************\n",
      "********************************\n",
      "*********************************\n",
      "**********************************\n",
      "***********************************\n",
      "************************************\n",
      "*************************************\n",
      "**************************************\n",
      "***************************************\n"
     ]
    }
   ],
   "source": [
    "for i in range(36):\n",
    "    print('*'*(i+1))\n",
    "for i in range(36):\n",
    "    print('*'*(i+4))"
   ]
  },
  {
   "cell_type": "code",
   "execution_count": 29,
   "metadata": {},
   "outputs": [
    {
     "name": "stdout",
     "output_type": "stream",
     "text": [
      "Marco Maldonado\n",
      "Marco Maldonado\n",
      "Marco Maldonado\n",
      "Marco Maldonado\n",
      "Marco Maldonado\n",
      "Marco Maldonado\n",
      "Marco Maldonado\n",
      "Marco Maldonado\n",
      "Marco Maldonado\n",
      "Marco Maldonado\n",
      "Marco Maldonado\n",
      "Marco Maldonado\n",
      "Marco Maldonado\n",
      "Marco Maldonado\n",
      "Marco Maldonado\n",
      "Marco Maldonado\n",
      "Marco Maldonado\n",
      "Marco Maldonado\n",
      "Marco Maldonado\n",
      "Marco Maldonado\n",
      "Marco Maldonado\n",
      "Marco Maldonado\n",
      "Marco Maldonado\n",
      "Marco Maldonado\n",
      "Marco Maldonado\n",
      "Marco Maldonado\n",
      "Marco Maldonado\n",
      "Marco Maldonado\n",
      "Marco Maldonado\n",
      "Marco Maldonado\n",
      "Marco Maldonado\n",
      "Marco Maldonado\n",
      "Marco Maldonado\n",
      "Marco Maldonado\n",
      "Marco Maldonado\n",
      "Marco Maldonado\n",
      "Marco Maldonado\n",
      "Marco Maldonado\n",
      "Marco Maldonado\n",
      "Marco Maldonado\n",
      "Marco Maldonado\n",
      "Marco Maldonado\n",
      "Marco Maldonado\n",
      "Marco Maldonado\n",
      "Marco Maldonado\n",
      "Marco Maldonado\n",
      "Marco Maldonado\n",
      "Marco Maldonado\n",
      "Marco Maldonado\n",
      "Marco Maldonado\n",
      "Marco Maldonado\n",
      "Marco Maldonado\n",
      "Marco Maldonado\n",
      "Marco Maldonado\n",
      "Marco Maldonado\n",
      "Marco Maldonado\n",
      "Marco Maldonado\n",
      "Marco Maldonado\n",
      "Marco Maldonado\n",
      "Marco Maldonado\n",
      "Marco Maldonado\n",
      "Marco Maldonado\n",
      "Marco Maldonado\n",
      "Marco Maldonado\n",
      "Marco Maldonado\n",
      "Marco Maldonado\n",
      "Marco Maldonado\n",
      "Marco Maldonado\n",
      "Marco Maldonado\n",
      "Marco Maldonado\n",
      "Marco Maldonado\n",
      "Marco Maldonado\n",
      "Marco Maldonado\n",
      "Marco Maldonado\n",
      "Marco Maldonado\n",
      "Marco Maldonado\n",
      "Marco Maldonado\n",
      "Marco Maldonado\n",
      "Marco Maldonado\n",
      "Marco Maldonado\n",
      "Marco Maldonado\n",
      "Marco Maldonado\n",
      "Marco Maldonado\n",
      "Marco Maldonado\n",
      "Marco Maldonado\n",
      "Marco Maldonado\n",
      "Marco Maldonado\n",
      "Marco Maldonado\n",
      "Marco Maldonado\n",
      "Marco Maldonado\n",
      "Marco Maldonado\n",
      "Marco Maldonado\n",
      "Marco Maldonado\n",
      "Marco Maldonado\n",
      "Marco Maldonado\n",
      "Marco Maldonado\n",
      "Marco Maldonado\n",
      "Marco Maldonado\n",
      "Marco Maldonado\n",
      "Marco Maldonado\n"
     ]
    }
   ],
   "source": [
    "for i in range(1, 101):\n",
    "    print('Marco Maldonado')"
   ]
  },
  {
   "cell_type": "code",
   "execution_count": 32,
   "metadata": {},
   "outputs": [
    {
     "name": "stdout",
     "output_type": "stream",
     "text": [
      "Marco Maldonado Marco Maldonado Marco Maldonado Marco Maldonado Marco Maldonado Marco Maldonado Marco Maldonado Marco Maldonado Marco Maldonado Marco Maldonado Marco Maldonado Marco Maldonado Marco Maldonado Marco Maldonado Marco Maldonado Marco Maldonado Marco Maldonado Marco Maldonado Marco Maldonado Marco Maldonado Marco Maldonado Marco Maldonado Marco Maldonado Marco Maldonado Marco Maldonado Marco Maldonado Marco Maldonado Marco Maldonado Marco Maldonado Marco Maldonado Marco Maldonado Marco Maldonado Marco Maldonado Marco Maldonado Marco Maldonado Marco Maldonado Marco Maldonado Marco Maldonado Marco Maldonado Marco Maldonado Marco Maldonado Marco Maldonado Marco Maldonado Marco Maldonado Marco Maldonado Marco Maldonado Marco Maldonado Marco Maldonado Marco Maldonado Marco Maldonado Marco Maldonado Marco Maldonado Marco Maldonado Marco Maldonado Marco Maldonado Marco Maldonado Marco Maldonado Marco Maldonado Marco Maldonado Marco Maldonado Marco Maldonado Marco Maldonado Marco Maldonado Marco Maldonado Marco Maldonado Marco Maldonado Marco Maldonado Marco Maldonado Marco Maldonado Marco Maldonado Marco Maldonado Marco Maldonado Marco Maldonado Marco Maldonado Marco Maldonado Marco Maldonado Marco Maldonado Marco Maldonado Marco Maldonado Marco Maldonado Marco Maldonado Marco Maldonado Marco Maldonado Marco Maldonado Marco Maldonado Marco Maldonado Marco Maldonado Marco Maldonado Marco Maldonado Marco Maldonado Marco Maldonado Marco Maldonado Marco Maldonado Marco Maldonado Marco Maldonado Marco Maldonado Marco Maldonado Marco Maldonado Marco Maldonado Marco Maldonado "
     ]
    }
   ],
   "source": [
    "for i in range(1, 101):\n",
    "    print('Marco Maldonado', end=' ')"
   ]
  },
  {
   "cell_type": "code",
   "execution_count": 33,
   "metadata": {},
   "outputs": [
    {
     "name": "stdout",
     "output_type": "stream",
     "text": [
      "1 Marco Maldonado\n",
      "2 Marco Maldonado\n",
      "3 Marco Maldonado\n",
      "4 Marco Maldonado\n",
      "5 Marco Maldonado\n",
      "6 Marco Maldonado\n",
      "7 Marco Maldonado\n",
      "8 Marco Maldonado\n",
      "9 Marco Maldonado\n",
      "10 Marco Maldonado\n",
      "11 Marco Maldonado\n",
      "12 Marco Maldonado\n",
      "13 Marco Maldonado\n",
      "14 Marco Maldonado\n",
      "15 Marco Maldonado\n",
      "16 Marco Maldonado\n",
      "17 Marco Maldonado\n",
      "18 Marco Maldonado\n",
      "19 Marco Maldonado\n",
      "20 Marco Maldonado\n",
      "21 Marco Maldonado\n",
      "22 Marco Maldonado\n",
      "23 Marco Maldonado\n",
      "24 Marco Maldonado\n",
      "25 Marco Maldonado\n",
      "26 Marco Maldonado\n",
      "27 Marco Maldonado\n",
      "28 Marco Maldonado\n",
      "29 Marco Maldonado\n",
      "30 Marco Maldonado\n",
      "31 Marco Maldonado\n",
      "32 Marco Maldonado\n",
      "33 Marco Maldonado\n",
      "34 Marco Maldonado\n",
      "35 Marco Maldonado\n",
      "36 Marco Maldonado\n",
      "37 Marco Maldonado\n",
      "38 Marco Maldonado\n",
      "39 Marco Maldonado\n",
      "40 Marco Maldonado\n",
      "41 Marco Maldonado\n",
      "42 Marco Maldonado\n",
      "43 Marco Maldonado\n",
      "44 Marco Maldonado\n",
      "45 Marco Maldonado\n",
      "46 Marco Maldonado\n",
      "47 Marco Maldonado\n",
      "48 Marco Maldonado\n",
      "49 Marco Maldonado\n",
      "50 Marco Maldonado\n",
      "51 Marco Maldonado\n",
      "52 Marco Maldonado\n",
      "53 Marco Maldonado\n",
      "54 Marco Maldonado\n",
      "55 Marco Maldonado\n",
      "56 Marco Maldonado\n",
      "57 Marco Maldonado\n",
      "58 Marco Maldonado\n",
      "59 Marco Maldonado\n",
      "60 Marco Maldonado\n",
      "61 Marco Maldonado\n",
      "62 Marco Maldonado\n",
      "63 Marco Maldonado\n",
      "64 Marco Maldonado\n",
      "65 Marco Maldonado\n",
      "66 Marco Maldonado\n",
      "67 Marco Maldonado\n",
      "68 Marco Maldonado\n",
      "69 Marco Maldonado\n",
      "70 Marco Maldonado\n",
      "71 Marco Maldonado\n",
      "72 Marco Maldonado\n",
      "73 Marco Maldonado\n",
      "74 Marco Maldonado\n",
      "75 Marco Maldonado\n",
      "76 Marco Maldonado\n",
      "77 Marco Maldonado\n",
      "78 Marco Maldonado\n",
      "79 Marco Maldonado\n",
      "80 Marco Maldonado\n",
      "81 Marco Maldonado\n",
      "82 Marco Maldonado\n",
      "83 Marco Maldonado\n",
      "84 Marco Maldonado\n",
      "85 Marco Maldonado\n",
      "86 Marco Maldonado\n",
      "87 Marco Maldonado\n",
      "88 Marco Maldonado\n",
      "89 Marco Maldonado\n",
      "90 Marco Maldonado\n",
      "91 Marco Maldonado\n",
      "92 Marco Maldonado\n",
      "93 Marco Maldonado\n",
      "94 Marco Maldonado\n",
      "95 Marco Maldonado\n",
      "96 Marco Maldonado\n",
      "97 Marco Maldonado\n",
      "98 Marco Maldonado\n",
      "99 Marco Maldonado\n",
      "100 Marco Maldonado\n"
     ]
    }
   ],
   "source": [
    "for i in range(1, 101):\n",
    "    print(i, 'Marco Maldonado')"
   ]
  },
  {
   "cell_type": "code",
   "execution_count": 34,
   "metadata": {},
   "outputs": [
    {
     "name": "stdout",
     "output_type": "stream",
     "text": [
      "1 --- 1\n",
      "2 --- 4\n",
      "3 --- 9\n",
      "4 --- 16\n",
      "5 --- 25\n",
      "6 --- 36\n",
      "7 --- 49\n",
      "8 --- 64\n",
      "9 --- 81\n",
      "10 --- 100\n",
      "11 --- 121\n",
      "12 --- 144\n",
      "13 --- 169\n",
      "14 --- 196\n",
      "15 --- 225\n",
      "16 --- 256\n",
      "17 --- 289\n",
      "18 --- 324\n",
      "19 --- 361\n",
      "20 --- 400\n"
     ]
    }
   ],
   "source": [
    "for i in range(1, 21):\n",
    "    print(i,'---', i*i)"
   ]
  },
  {
   "cell_type": "code",
   "execution_count": 36,
   "metadata": {},
   "outputs": [
    {
     "name": "stdout",
     "output_type": "stream",
     "text": [
      "8\n",
      "11\n",
      "14\n",
      "17\n",
      "20\n",
      "23\n",
      "26\n",
      "29\n",
      "32\n",
      "35\n",
      "38\n",
      "41\n",
      "44\n",
      "47\n",
      "50\n",
      "53\n",
      "56\n",
      "59\n",
      "62\n",
      "65\n",
      "68\n",
      "71\n",
      "74\n",
      "77\n",
      "80\n",
      "83\n",
      "86\n",
      "89\n"
     ]
    }
   ],
   "source": [
    "for i in range(8, 90, 3):\n",
    "    print(i)"
   ]
  },
  {
   "cell_type": "code",
   "execution_count": 37,
   "metadata": {},
   "outputs": [
    {
     "name": "stdout",
     "output_type": "stream",
     "text": [
      "100\n",
      "98\n",
      "96\n",
      "94\n",
      "92\n",
      "90\n",
      "88\n",
      "86\n",
      "84\n",
      "82\n",
      "80\n",
      "78\n",
      "76\n",
      "74\n",
      "72\n",
      "70\n",
      "68\n",
      "66\n",
      "64\n",
      "62\n",
      "60\n",
      "58\n",
      "56\n",
      "54\n",
      "52\n",
      "50\n",
      "48\n",
      "46\n",
      "44\n",
      "42\n",
      "40\n",
      "38\n",
      "36\n",
      "34\n",
      "32\n",
      "30\n",
      "28\n",
      "26\n",
      "24\n",
      "22\n",
      "20\n",
      "18\n",
      "16\n",
      "14\n",
      "12\n",
      "10\n",
      "8\n",
      "6\n",
      "4\n",
      "2\n"
     ]
    }
   ],
   "source": [
    "for i in range(100, 1, -2):\n",
    "    print(i)"
   ]
  },
  {
   "cell_type": "code",
   "execution_count": 45,
   "metadata": {},
   "outputs": [
    {
     "name": "stdin",
     "output_type": "stream",
     "text": [
      "What is your name Marco\n",
      "How Many Times do you want me to enter repeat your name? 10\n"
     ]
    },
    {
     "name": "stdout",
     "output_type": "stream",
     "text": [
      "Marco\n",
      "Marco\n",
      "Marco\n",
      "Marco\n",
      "Marco\n",
      "Marco\n",
      "Marco\n",
      "Marco\n",
      "Marco\n",
      "Marco\n"
     ]
    }
   ],
   "source": [
    "name = input('What is your name')\n",
    "times = int(input('How Many Times do you want me to enter repeat your name?'))\n",
    "for i in range(times):\n",
    "    print(name)"
   ]
  },
  {
   "cell_type": "code",
   "execution_count": 49,
   "metadata": {},
   "outputs": [
    {
     "name": "stdin",
     "output_type": "stream",
     "text": [
      "\n",
      "Please Enter the Range Number:  23\n"
     ]
    },
    {
     "name": "stdout",
     "output_type": "stream",
     "text": [
      "0\n",
      "1\n",
      "1\n",
      "2\n",
      "3\n",
      "5\n",
      "8\n",
      "13\n",
      "21\n",
      "34\n",
      "55\n",
      "89\n",
      "144\n",
      "233\n",
      "377\n",
      "610\n",
      "987\n",
      "1597\n",
      "2584\n",
      "4181\n",
      "6765\n",
      "10946\n",
      "17711\n"
     ]
    }
   ],
   "source": [
    "\n",
    "# Python Fibonacci series Program using While Loop\n",
    "\n",
    "# Fibonacci series will start at 0 and travel upto below number\n",
    "Number = int(input(\"\\nPlease Enter the Range Number: \"))\n",
    "\n",
    "# Initializing First and Second Values of a Series\n",
    "i = 0\n",
    "First_Value = 0\n",
    "Second_Value = 1\n",
    "           \n",
    "# Find & Displaying Fibonacci series\n",
    "while(i < Number):\n",
    "           if(i <= 1):\n",
    "                      Next = i\n",
    "           else:\n",
    "                      Next = First_Value + Second_Value\n",
    "                      First_Value = Second_Value\n",
    "                      Second_Value = Next\n",
    "           print(Next)\n",
    "           i = i + 1"
   ]
  },
  {
   "cell_type": "code",
   "execution_count": 52,
   "metadata": {},
   "outputs": [
    {
     "name": "stdin",
     "output_type": "stream",
     "text": [
      "how tall you want your tower 12\n"
     ]
    },
    {
     "name": "stdout",
     "output_type": "stream",
     "text": [
      "****************************************************************************************************\n",
      "****************************************************************************************************\n",
      "****************************************************************************************************\n",
      "****************************************************************************************************\n",
      "****************************************************************************************************\n",
      "****************************************************************************************************\n",
      "****************************************************************************************************\n",
      "****************************************************************************************************\n",
      "****************************************************************************************************\n",
      "****************************************************************************************************\n",
      "****************************************************************************************************\n",
      "****************************************************************************************************\n"
     ]
    }
   ],
   "source": [
    "height = int(input('how tall you want your tower'))\n",
    "for i in range(height):\n",
    "    print('*'*100)"
   ]
  },
  {
   "cell_type": "code",
   "execution_count": null,
   "metadata": {},
   "outputs": [],
   "source": []
  }
 ],
 "metadata": {
  "kernelspec": {
   "display_name": "Python 3",
   "language": "python",
   "name": "python3"
  },
  "language_info": {
   "codemirror_mode": {
    "name": "ipython",
    "version": 3
   },
   "file_extension": ".py",
   "mimetype": "text/x-python",
   "name": "python",
   "nbconvert_exporter": "python",
   "pygments_lexer": "ipython3",
   "version": "3.7.6"
  }
 },
 "nbformat": 4,
 "nbformat_minor": 4
}
