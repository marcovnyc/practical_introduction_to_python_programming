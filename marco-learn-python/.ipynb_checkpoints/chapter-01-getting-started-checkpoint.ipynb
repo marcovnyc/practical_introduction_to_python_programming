{
 "cells": [
  {
   "cell_type": "code",
   "execution_count": 1,
   "metadata": {},
   "outputs": [
    {
     "name": "stdin",
     "output_type": "stream",
     "text": [
      "Enter the temperature in Celsius 34\n"
     ]
    },
    {
     "name": "stdout",
     "output_type": "stream",
     "text": [
      "In Farenheit, that is 93.2\n"
     ]
    }
   ],
   "source": [
    "temp = eval(input('Enter the temperature in Celsius'))\n",
    "print('In Farenheit, that is', 9/5*temp+32)"
   ]
  },
  {
   "cell_type": "code",
   "execution_count": 3,
   "metadata": {},
   "outputs": [
    {
     "name": "stdin",
     "output_type": "stream",
     "text": [
      "Enter the fist number:  100\n",
      "Enter the second number 50\n"
     ]
    },
    {
     "name": "stdout",
     "output_type": "stream",
     "text": [
      "The average of these two numbers is 75.0\n"
     ]
    }
   ],
   "source": [
    "num1 = eval(input('Enter the fist number: '))\n",
    "num2 = eval(input('Enter the second number'))\n",
    "print('The average of these two numbers is', (num1+num2)/2)"
   ]
  },
  {
   "cell_type": "code",
   "execution_count": 4,
   "metadata": {},
   "outputs": [
    {
     "name": "stdin",
     "output_type": "stream",
     "text": [
      "enter your name: Marco Maldonado\n"
     ]
    },
    {
     "name": "stdout",
     "output_type": "stream",
     "text": [
      "hello Marco Maldonado\n"
     ]
    }
   ],
   "source": [
    "nombre = input(\"enter your name:\")\n",
    "print('hello', nombre)"
   ]
  },
  {
   "cell_type": "code",
   "execution_count": null,
   "metadata": {},
   "outputs": [
    {
     "name": "stdin",
     "output_type": "stream",
     "text": [
      "what are you afraid of? corona virus\n",
      "what is your name? Annie\n",
      "How old are you? 34\n",
      "What city do you live? Wuhan\n"
     ]
    }
   ],
   "source": [
    "afraid = input('what are you afraid of?')\n",
    "your_name = input('what is your name?')\n",
    "age = input('How old are you?')\n",
    "city = input('What city do you live?')\n",
    "print('Hello', your_name + ' you are afraid of', afraid + ' and you are ' + age + ' years old'\n",
    "     + ' and you live in ', city)"
   ]
  },
  {
   "cell_type": "code",
   "execution_count": 9,
   "metadata": {},
   "outputs": [
    {
     "name": "stdout",
     "output_type": "stream",
     "text": [
      "3+2\n"
     ]
    }
   ],
   "source": [
    "print('3+2')"
   ]
  },
  {
   "cell_type": "code",
   "execution_count": 10,
   "metadata": {},
   "outputs": [
    {
     "name": "stdout",
     "output_type": "stream",
     "text": [
      "5\n"
     ]
    }
   ],
   "source": [
    "print(3 + 2)"
   ]
  },
  {
   "cell_type": "code",
   "execution_count": 12,
   "metadata": {},
   "outputs": [
    {
     "name": "stdin",
     "output_type": "stream",
     "text": [
      "Enter the temperatur in celsius:  34\n"
     ]
    },
    {
     "name": "stdout",
     "output_type": "stream",
     "text": [
      "In Farenheit, that is  93.2\n"
     ]
    }
   ],
   "source": [
    "temp = eval(input('Enter the temperatur in celsius: '))\n",
    "print('In Farenheit, that is ', 9/5*temp+32)\n"
   ]
  },
  {
   "cell_type": "code",
   "execution_count": 2,
   "metadata": {},
   "outputs": [
    {
     "name": "stdin",
     "output_type": "stream",
     "text": [
      "Enter the temperature in celsius:  34\n"
     ]
    },
    {
     "name": "stdout",
     "output_type": "stream",
     "text": [
      "In Farenheit the temperature is  93.2\n"
     ]
    }
   ],
   "source": [
    "temp = eval(input('Enter the temperature in celsius: '))\n",
    "f_temp = 9/5*temp+32\n",
    "print('In Farenheit the temperature is ', f_temp)\n",
    "if f_temp > 212:\n",
    "    print('That temperature is above the boiling point.')\n",
    "if f_temp < 32:\n",
    "    print('That temperature is below the freezing point')"
   ]
  },
  {
   "cell_type": "code",
   "execution_count": 3,
   "metadata": {},
   "outputs": [
    {
     "name": "stdout",
     "output_type": "stream",
     "text": [
      "****************\n",
      "****************\n",
      "****************\n",
      "****************\n"
     ]
    }
   ],
   "source": [
    "print('****************')\n",
    "print('****************')\n",
    "print('****************')\n",
    "print('****************')"
   ]
  },
  {
   "cell_type": "code",
   "execution_count": 4,
   "metadata": {},
   "outputs": [
    {
     "name": "stdout",
     "output_type": "stream",
     "text": [
      "****************\n",
      "*              *\n",
      "*              *\n",
      "****************\n"
     ]
    }
   ],
   "source": [
    "print('****************')\n",
    "print('*              *')\n",
    "print('*              *')\n",
    "print('****************')"
   ]
  },
  {
   "cell_type": "code",
   "execution_count": 5,
   "metadata": {},
   "outputs": [
    {
     "name": "stdout",
     "output_type": "stream",
     "text": [
      "*\n",
      "**\n",
      "***\n",
      "****\n"
     ]
    }
   ],
   "source": [
    "print('*')\n",
    "print('**')\n",
    "print('***')\n",
    "print('****')"
   ]
  },
  {
   "cell_type": "code",
   "execution_count": 6,
   "metadata": {},
   "outputs": [
    {
     "data": {
      "text/plain": [
       "0.1017249004865104"
      ]
     },
     "execution_count": 6,
     "metadata": {},
     "output_type": "execute_result"
    }
   ],
   "source": [
    "(512 - 282)/(47*48+5)"
   ]
  },
  {
   "cell_type": "code",
   "execution_count": 34,
   "metadata": {},
   "outputs": [
    {
     "name": "stdin",
     "output_type": "stream",
     "text": [
      "Enter a Number 4\n"
     ]
    },
    {
     "name": "stdout",
     "output_type": "stream",
     "text": [
      "The square of 4 is 16.\n"
     ]
    }
   ],
   "source": [
    "your_num = int(eval(input('Enter a Number')))\n",
    "type(your_num)\n",
    "square = int(your_num * your_num)\n",
    "print('The square of ' + str(your_num)  + \" is \" + str(square) + \".\")"
   ]
  },
  {
   "cell_type": "code",
   "execution_count": 51,
   "metadata": {},
   "outputs": [
    {
     "name": "stdout",
     "output_type": "stream",
     "text": [
      "The Value of 3+4 is 7 .\n",
      "The Value of 3+4 is ***7***.\n"
     ]
    }
   ],
   "source": [
    "print('The Value of 3+4 is', 3+4, '.')\n",
    "print('The Value of 3+4 is ', 3+4,  '.', sep='***')"
   ]
  },
  {
   "cell_type": "code",
   "execution_count": 54,
   "metadata": {},
   "outputs": [
    {
     "name": "stdin",
     "output_type": "stream",
     "text": [
      "Enter a Number 7\n"
     ]
    },
    {
     "name": "stdout",
     "output_type": "stream",
     "text": [
      "7---14---21---28---35\n"
     ]
    }
   ],
   "source": [
    "give_num = int(eval(input('Enter a Number')))\n",
    "print(give_num, give_num*2, give_num*3, give_num*4, give_num*5, sep=\"---\")"
   ]
  },
  {
   "cell_type": "code",
   "execution_count": 56,
   "metadata": {},
   "outputs": [
    {
     "name": "stdin",
     "output_type": "stream",
     "text": [
      "What is your weight?__ 150\n"
     ]
    },
    {
     "name": "stdout",
     "output_type": "stream",
     "text": [
      "Your Weight in Kilograms is 68.03955366052799\n"
     ]
    }
   ],
   "source": [
    "your_weight = int(eval(input('What is your weight?__')))\n",
    "print('Your Weight in Kilograms is', your_weight/2.2046)"
   ]
  },
  {
   "cell_type": "code",
   "execution_count": 62,
   "metadata": {},
   "outputs": [
    {
     "name": "stdin",
     "output_type": "stream",
     "text": [
      "enter number 1 10\n",
      "enter number 2 10\n",
      "enter number 3 10\n"
     ]
    },
    {
     "name": "stdout",
     "output_type": "stream",
     "text": [
      "The sum of these numbers is 30 and the average is  10.0\n"
     ]
    }
   ],
   "source": [
    "num_1 = int(eval(input('enter number 1')))\n",
    "num_2 = int(eval(input('enter number 2')))\n",
    "num_3 = int(eval(input('enter number 3')))\n",
    "total = str(num_1 + num_2 + num_3)\n",
    "average = str((num_1 + num_2 + num_3)/3)\n",
    "print('The sum of these numbers is', total + ' and the average is ', average )"
   ]
  },
  {
   "cell_type": "code",
   "execution_count": 66,
   "metadata": {},
   "outputs": [
    {
     "name": "stdout",
     "output_type": "stream",
     "text": [
      "Welcome to the Tip Calculator\n"
     ]
    },
    {
     "name": "stdin",
     "output_type": "stream",
     "text": [
      "How much is your Meal 100\n",
      "how much percentage of your meal do you want to leave? 10\n"
     ]
    },
    {
     "name": "stdout",
     "output_type": "stream",
     "text": [
      "Your tip is  10.0 and the total cost will be  110.0\n"
     ]
    }
   ],
   "source": [
    "print('Welcome to the Tip Calculator')\n",
    "meal_price = int(eval(input('How much is your Meal')))\n",
    "percentage = int(eval(input('how much percentage of your meal do you want to leave?')))\n",
    "tip = str(meal_price*(percentage/100))\n",
    "total_cost = str(meal_price + float(tip))\n",
    "print('Your tip is ', tip + ' and the total cost will be ', total_cost)"
   ]
  },
  {
   "cell_type": "code",
   "execution_count": null,
   "metadata": {},
   "outputs": [],
   "source": []
  }
 ],
 "metadata": {
  "kernelspec": {
   "display_name": "Python 3",
   "language": "python",
   "name": "python3"
  },
  "language_info": {
   "codemirror_mode": {
    "name": "ipython",
    "version": 3
   },
   "file_extension": ".py",
   "mimetype": "text/x-python",
   "name": "python",
   "nbconvert_exporter": "python",
   "pygments_lexer": "ipython3",
   "version": "3.7.6"
  }
 },
 "nbformat": 4,
 "nbformat_minor": 4
}
